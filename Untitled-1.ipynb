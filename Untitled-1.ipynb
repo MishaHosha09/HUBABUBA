{
 "cells": [
  {
   "cell_type": "code",
   "execution_count": null,
   "metadata": {},
   "outputs": [],
   "source": [
    "const laptopname = \"acer predator\";\n",
    "const laptopyear = 2021;\n",
    "let laptopprice = 700;\n",
    "let available = true;\n",
    "let buyername = null;\n",
    "console.log('назва: ${laptopname}, рік ${laptopyear}, Ціна ${laptopprice} доларів, Доступ: ${available}, Покупець: ${buyername}')"
   ]
  }
 ],
 "metadata": {
  "language_info": {
   "name": "python"
  }
 },
 "nbformat": 4,
 "nbformat_minor": 2
}
